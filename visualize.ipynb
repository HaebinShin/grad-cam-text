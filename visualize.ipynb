{
 "cells": [
  {
   "cell_type": "code",
   "execution_count": 1,
   "metadata": {
    "scrolled": false
   },
   "outputs": [],
   "source": [
    "import tensorflow as tf\n",
    "import os\n",
    "os.environ['CUDA_VISIBLE_DEVICES'] = '-1'\n",
    "from model import Model\n",
    "from dataset import *\n",
    "\n",
    "import matplotlib.pyplot as plt\n",
    "%matplotlib inline\n",
    "\n",
    "# plt.rcParams['font.family']='NanumGothicCoding'\n",
    "# global font setting\n",
    "# if not working, remove matplotlib cache file (rm -rf /root/.cache/matplotlib/*)\n",
    "\n",
    "def _plot_score(vec, pred_text, xticks):\n",
    "    _axis_fontsize=13\n",
    "    fig=plt.figure(figsize = (14,10))\n",
    "    plt.yticks([])\n",
    "    plt.xticks(range(0,len(vec)), xticks, fontsize=_axis_fontsize)\n",
    "    fig.add_subplot(1, 1, 1)\n",
    "    plt.figtext(x=0.13, y=0.54, s='Prediction: {}'.format(pred_text), fontsize=15, fontname='sans-serif')\n",
    "    img = plt.imshow([vec], vmin=0, vmax=1)\n",
    "    plt.show()\n",
    "    \n",
    "def _get_text_xticks(sentence):\n",
    "    tokens = [word_.strip() for word_ in sentence.split(' ')]\n",
    "    return tokens\n",
    "\n",
    "def visualize_gradcam_text(sentences, checkpoint_path, max_article_length):\n",
    "    \n",
    "    config = tf.ConfigProto()\n",
    "    config.gpu_options.allow_growth = True\n",
    "    \n",
    "    model = Model()\n",
    "    classifier = tf.estimator.Estimator(model_fn=model.build,\n",
    "                                        config=tf.estimator.RunConfig(session_config=config),\n",
    "                                        params={\n",
    "                                            'feature_columns': [tf.feature_column.numeric_column(key='x')], \\\n",
    "                                            'kernels': [(3,512),(4,512),(5,512)], \\\n",
    "                                            'num_classes': 2, \\\n",
    "                                            'max_article_length': max_article_length\n",
    "    })\n",
    "    \n",
    "    data = SST(Word2vecEnWordEmbedder)\n",
    "    pred_val = classifier.predict(input_fn=lambda: data.predict_input_fn(sentences, padded_size=MAX_ARTICLE_LENGTH),\n",
    "                                  checkpoint_path=checkpoint_path)\n",
    "    for i, _val in enumerate(pred_val):\n",
    "        pred_idx = _val['predict_index'][0]\n",
    "        vec = _val['grad_cam'][pred_idx][:17]\n",
    "        pred_text = \"Negative\" if pred_idx==0 else \"Positive\"\n",
    "        _plot_score(vec=vec, pred_text=pred_text, xticks=_get_text_xticks(sentences[i]))\n"
   ]
  },
  {
   "cell_type": "code",
   "execution_count": 2,
   "metadata": {
    "scrolled": false
   },
   "outputs": [
    {
     "name": "stdout",
     "output_type": "stream",
     "text": [
      "WARNING:tensorflow:Using temporary folder as model directory: /tmp/tmpvt85fqoo\n",
      "INFO:tensorflow:Using config: {'_log_step_count_steps': 100, '_task_type': 'worker', '_num_ps_replicas': 0, '_tf_random_seed': None, '_save_checkpoints_steps': None, '_model_dir': '/tmp/tmpvt85fqoo', '_keep_checkpoint_max': 5, '_num_worker_replicas': 1, '_cluster_spec': <tensorflow.python.training.server_lib.ClusterSpec object at 0x7f591f9d4ac8>, '_keep_checkpoint_every_n_hours': 10000, '_is_chief': True, '_session_config': gpu_options {\n",
      "  allow_growth: true\n",
      "}\n",
      ", '_save_summary_steps': 100, '_task_id': 0, '_service': None, '_master': '', '_save_checkpoints_secs': 600}\n",
      "INFO:tensorflow:Restoring parameters from ./ckpt/0401_151904/model.ckpt-2566\n"
     ]
    },
    {
     "name": "stderr",
     "output_type": "stream",
     "text": [
      "/usr/local/lib/python3.5/dist-packages/matplotlib/cbook/deprecation.py:106: MatplotlibDeprecationWarning: Adding an axes using the same arguments as a previous axes currently reuses the earlier instance.  In a future version, a new instance will always be created and returned.  Meanwhile, this warning can be suppressed, and the future behavior ensured, by passing a unique label to each axes instance.\n",
      "  warnings.warn(message, mplDeprecation, stacklevel=1)\n"
     ]
    },
    {
     "data": {
      "image/png": "[encoded data removed]",
      "text/plain": [
       "<matplotlib.figure.Figure at 0x7f59043b9240>"
      ]
     },
     "metadata": {},
     "output_type": "display_data"
    },
    {
     "data": {
      "image/png": "[encoded data removed]",
      "text/plain": [
       "<matplotlib.figure.Figure at 0x7f590029f8d0>"
      ]
     },
     "metadata": {},
     "output_type": "display_data"
    },
    {
     "data": {
      "image/png": "[encoded data removed]",
      "text/plain": [
       "<matplotlib.figure.Figure at 0x7f590021bb00>"
      ]
     },
     "metadata": {},
     "output_type": "display_data"
    },
    {
     "data": {
      "image/png": "[encoded data removed]",
      "text/plain": [
       "<matplotlib.figure.Figure at 0x7f59001e07f0>"
      ]
     },
     "metadata": {},
     "output_type": "display_data"
    }
   ],
   "source": [
    "MAX_ARTICLE_LENGTH = 500\n",
    "CKPT = './ckpt/0401_151904/model.ckpt-2566'\n",
    "\n",
    "visualize_gradcam_text(['the movie exists for its soccer action and its fine acting .',\n",
    "                      'the thrill is -lrb- long -rrb- gone .',\n",
    "                      \"now it 's just tired .\",\n",
    "                      'the cast is very excellent and relaxed .'], \\\n",
    "                       checkpoint_path=CKPT, \\\n",
    "                       max_article_length=MAX_ARTICLE_LENGTH)"
   ]
  },
  {
   "cell_type": "code",
   "execution_count": null,
   "metadata": {},
   "outputs": [],
   "source": []
  }
 ],
 "metadata": {
  "kernelspec": {
   "display_name": "Python 3",
   "language": "python",
   "name": "python3"
  },
  "language_info": {
   "codemirror_mode": {
    "name": "ipython",
    "version": 3
   },
   "file_extension": ".py",
   "mimetype": "text/x-python",
   "name": "python",
   "nbconvert_exporter": "python",
   "pygments_lexer": "ipython3",
   "version": "3.5.2"
  }
 },
 "nbformat": 4,
 "nbformat_minor": 2
}
